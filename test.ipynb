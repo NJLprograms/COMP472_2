{
 "metadata": {
  "language_info": {
   "codemirror_mode": {
    "name": "ipython",
    "version": 3
   },
   "file_extension": ".py",
   "mimetype": "text/x-python",
   "name": "python",
   "nbconvert_exporter": "python",
   "pygments_lexer": "ipython3",
   "version": "3.8.3-final"
  },
  "orig_nbformat": 2,
  "kernelspec": {
   "name": "python3",
   "display_name": "Python 3.8.3 64-bit ('base': conda)",
   "metadata": {
    "interpreter": {
     "hash": "e0d100da2a8ea264dfb47a8430a9e30a2afabd950adf81b1e01ba12eb2b32acc"
    }
   }
  }
 },
 "nbformat": 4,
 "nbformat_minor": 2,
 "cells": [
  {
   "source": [
    "# puzzle class example\n",
    "\n",
    "from Puzzle import Puzzle\n",
    "from Moves import Move\n",
    "\n",
    "pu = Puzzle(\"1 3 5 7 2 4 6 0\")\n",
    "\n",
    "\n",
    "pu.regularMove(Move.DOWN)\n",
    "pu.regularMove(Move.RIGHT)\n",
    "pu.regularMove(Move.UP)\n",
    "pu.regularMove(Move.LEFT)\n",
    "print(\"cost: \" + str(pu.cost))"
   ],
   "cell_type": "code",
   "metadata": {},
   "execution_count": 1,
   "outputs": [
    {
     "output_type": "stream",
     "name": "stdout",
     "text": [
      "cost: 4\n"
     ]
    },
    {
     "output_type": "execute_result",
     "data": {
      "text/plain": [
       "True"
      ]
     },
     "metadata": {},
     "execution_count": 1
    }
   ]
  },
  {
   "cell_type": "code",
   "execution_count": 1,
   "metadata": {},
   "outputs": [
    {
     "output_type": "execute_result",
     "data": {
      "text/plain": [
       "['3 0 1 4 2 6 5 7', '6 3 4 7 1 2 5 0', '1 0 3 6 5 2 7 4']"
      ]
     },
     "metadata": {},
     "execution_count": 1
    }
   ],
   "source": [
    "# file read example\n",
    "from Puzzle import Puzzle\n",
    "\n",
    "with open('samplePuzzles.txt') as file:\n",
    "    content = [line.rstrip('\\n') for line in file]\n",
    "\n",
    "content"
   ]
  },
  {
   "cell_type": "code",
   "execution_count": 2,
   "metadata": {},
   "outputs": [],
   "source": [
    "puzzle = \"1 2 3 4 5 6 7 0\"\n",
    "puzzle = puzzle.split()\n",
    "\n",
    "pu = {}\n",
    "\n",
    "for index, value in enumerate(puzzle):\n",
    "    pu[value] = index"
   ]
  },
  {
   "cell_type": "code",
   "execution_count": 2,
   "metadata": {},
   "outputs": [
    {
     "output_type": "execute_result",
     "data": {
      "text/plain": [
       "False"
      ]
     },
     "metadata": {},
     "execution_count": 2
    }
   ],
   "source": [
    "from Puzzle import Puzzle\n",
    "\n",
    "puzzle = Puzzle(\"1 2 3 5 4 6 7 0\")\n",
    "puzzle.swap('6', '0')\n",
    "puzzle.get(0)\n",
    "puzzle.hasEmptyCornerSlot()"
   ]
  },
  {
   "cell_type": "code",
   "execution_count": 1,
   "metadata": {},
   "outputs": [
    {
     "output_type": "stream",
     "name": "stdout",
     "text": [
      "{}\n"
     ]
    }
   ],
   "source": [
    "from GBFS import GBFS\n",
    "from Puzzle import Puzzle\n",
    "\n",
    "puzzle = Puzzle(\"1 2 3 4 5 6 7 0\")\n",
    "GBFS(puzzle)"
   ]
  },
  {
   "cell_type": "code",
   "execution_count": 5,
   "metadata": {},
   "outputs": [
    {
     "output_type": "stream",
     "name": "stdout",
     "text": [
      "8\n"
     ]
    },
    {
     "output_type": "execute_result",
     "data": {
      "text/plain": [
       "0"
      ]
     },
     "metadata": {},
     "execution_count": 5
    }
   ],
   "source": [
    "from heuristic import h1\n",
    "from Puzzle import Puzzle\n",
    "\n",
    "puzzle = Puzzle('3 0 1 4 2 6 5 7')\n",
    "print(h1(puzzle))\n",
    "puzzle = Puzzle('1 2 3 4 5 6 7 0')\n",
    "h1(puzzle)"
   ]
  },
  {
   "cell_type": "code",
   "execution_count": 8,
   "metadata": {},
   "outputs": [
    {
     "output_type": "stream",
     "name": "stdout",
     "text": [
      "1 3 2 4 6 5 7 0\n1 3 2 4 0 5 7 6\n1 3 2 0 6 5 7 4\n1 3 2 4 6 5 0 7\n1 3 0 4 6 5 7 2\n0 3 2 4 6 5 7 1\n1 3 2 4 5 0 7 6\n0 3 2 4 1 5 7 6\n1 0 2 4 3 5 7 6\n1 3 2 0 4 5 7 6\n1 3 0 2 6 5 7 4\n1 3 2 6 0 5 7 4\n0 3 2 1 6 5 7 4\n1 3 2 7 6 5 0 4\n1 3 2 4 6 0 5 7\n1 3 0 4 6 5 2 7\n1 0 3 4 6 5 7 2\n1 3 7 4 6 5 0 2\n1 3 4 0 6 5 7 2\n5 3 2 4 6 0 7 1\n6 3 2 4 0 5 7 1\n3 0 2 4 6 5 7 1\n4 3 2 0 6 5 7 1\n1 3 2 4 5 7 0 6\n1 0 2 4 5 3 7 6\n5 3 2 4 1 0 7 6\n6 3 2 4 1 5 7 0\n3 0 2 4 1 5 7 6\n4 3 2 0 1 5 7 6\n1 2 0 4 3 5 7 6\n1 5 2 4 3 0 7 6\n0 1 2 4 3 5 7 6\n1 3 2 6 4 5 7 0\n1 3 0 2 4 5 7 6\n0 3 2 1 4 5 7 6\n1 3 2 7 4 5 0 6\n1 0 3 2 6 5 7 4\n1 3 7 2 6 5 0 4\n1 3 2 6 5 0 7 4\n0 3 2 6 1 5 7 4\n1 0 2 6 3 5 7 4\n4 3 2 1 6 5 7 0\n5 3 2 1 6 0 7 4\n6 3 2 1 0 5 7 4\n3 0 2 1 6 5 7 4\n1 3 2 7 6 5 4 0\n1 3 2 7 6 0 5 4\n1 3 0 7 6 5 2 4\n1 3 2 4 0 6 5 7\n1 0 2 4 6 3 5 7\n1 0 3 4 6 5 2 7\n1 3 4 0 6 5 2 7\n1 5 3 4 6 0 7 2\n0 1 3 4 6 5 7 2\n1 3 7 4 6 5 2 0\n1 3 7 4 6 0 5 2\n1 3 4 2 6 5 7 0\n1 3 4 6 0 5 7 2\n0 3 4 1 6 5 7 2\n1 3 4 7 6 5 0 2\n5 3 2 4 0 6 7 1\n5 3 2 4 6 7 0 1\n5 0 2 4 6 3 7 1\n6 3 2 4 5 0 7 1\n6 0 2 4 3 5 7 1\n6 3 2 0 4 5 7 1\n3 2 0 4 6 5 7 1\n3 5 2 4 6 0 7 1\n4 3 0 2 6 5 7 1\n4 3 2 6 0 5 7 1\n4 3 2 7 6 5 0 1\n1 3 2 4 5 7 6 0\n1 3 0 4 5 7 2 6\n1 2 0 4 5 3 7 6\n0 1 2 4 5 3 7 6\n5 3 2 4 1 7 0 6\n5 3 2 4 0 1 7 6\n5 0 2 4 1 3 7 6\n6 3 2 0 1 5 7 4\n6 3 2 4 1 5 0 7\n6 3 0 4 1 5 7 2\n3 2 0 4 1 5 7 6\n3 5 2 4 1 0 7 6\n4 3 2 6 1 5 7 0\n4 3 2 1 0 5 7 6\n4 3 0 2 1 5 7 6\n4 3 2 7 1 5 0 6\n1 2 7 4 3 5 0 6\n1 2 4 0 3 5 7 6\n1 5 2 4 0 3 7 6\n1 5 2 4 3 7 0 6\n3 1 2 4 0 5 7 6\n5 1 2 4 3 0 7 6\n6 1 2 4 3 5 7 0\n4 1 2 0 3 5 7 6\n1 3 2 6 4 5 0 7\n1 3 0 6 4 5 7 2\n0 3 2 6 4 5 7 1\n1 0 3 2 4 5 7 6\n1 3 7 2 4 5 0 6\n5 3 2 1 4 0 7 6\n6 3 2 1 4 5 7 0\n3 0 2 1 4 5 7 6\n1 3 2 7 4 5 6 0\n1 3 2 7 4 0 5 6\n1 3 0 7 4 5 2 6\n1 5 3 2 6 0 7 4\n0 1 3 2 6 5 7 4\n1 3 7 2 6 5 4 0\n1 3 7 2 6 0 5 4\n1 3 2 6 5 7 0 4\n1 0 2 6 5 3 7 4\n5 3 2 6 1 0 7 4\n3 0 2 6 1 5 7 4\n1 2 0 6 3 5 7 4\n1 5 2 6 3 0 7 4\n0 1 2 6 3 5 7 4\n4 3 2 1 6 5 0 7\n4 3 0 1 6 5 7 2\n5 3 2 1 0 6 7 4\n5 3 2 1 6 7 0 4\n5 0 2 1 6 3 7 4\n6 3 2 1 5 0 7 4\n6 0 2 1 3 5 7 4\n3 2 0 1 6 5 7 4\n3 5 2 1 6 0 7 4\n1 3 2 0 6 5 4 7\n1 3 2 7 0 5 4 6\n1 3 0 7 6 5 4 2\n0 3 2 7 6 5 4 1\n1 3 2 7 0 6 5 4\n1 0 2 7 6 3 5 4\n1 3 7 0 6 5 2 4\n1 0 3 7 6 5 2 4\n1 3 2 4 7 6 5 0\n0 3 2 4 1 6 5 7\n1 0 2 4 3 6 5 7\n1 3 2 0 4 6 5 7\n1 2 0 4 6 3 5 7\n0 1 2 4 6 3 5 7\n1 5 3 4 6 0 2 7\n0 1 3 4 6 5 2 7\n1 3 4 2 6 5 0 7\n1 3 4 7 6 5 2 0\n1 3 4 6 0 5 2 7\n0 3 4 1 6 5 2 7\n1 5 3 4 0 6 7 2\n1 5 3 4 6 7 0 2\n2 1 3 4 6 5 7 0\n5 1 3 4 6 0 7 2\n6 1 3 4 0 5 7 2\n4 1 3 0 6 5 7 2\n1 3 7 4 0 5 2 6\n0 3 7 4 6 5 2 1\n1 3 7 4 0 6 5 2\n1 0 7 4 6 3 5 2\n1 3 4 2 0 5 7 6\n0 3 4 2 6 5 7 1\n1 3 4 6 5 0 7 2\n1 3 4 6 2 5 7 0\n0 3 4 6 1 5 7 2\n1 0 4 6 3 5 7 2\n2 3 4 1 6 5 7 0\n5 3 4 1 6 0 7 2\n6 3 4 1 0 5 7 2\n3 0 4 1 6 5 7 2\n1 3 4 7 6 0 5 2\n5 3 2 4 1 6 7 0\n0 3 2 4 5 6 7 1\n5 0 2 4 3 6 7 1\n5 3 2 0 4 6 7 1\n5 3 2 4 6 7 1 0\n5 3 0 4 6 7 2 1\n5 2 0 4 6 3 7 1\n0 5 2 4 6 3 7 1\n6 3 2 4 5 7 0 1\n6 0 2 4 5 3 7 1\n6 2 0 4 3 5 7 1\n0 6 2 4 3 5 7 1\n6 5 2 4 3 0 7 1\n6 3 0 2 4 5 7 1\n6 3 2 7 4 5 0 1\n3 2 7 4 6 5 0 1\n3 2 4 0 6 5 7 1\n3 5 2 4 0 6 7 1\n3 5 2 4 6 7 0 1\n4 0 3 2 6 5 7 1\n4 3 7 2 6 5 0 1\n4 3 2 6 5 0 7 1\n4 0 2 6 3 5 7 1\n4 3 2 7 6 5 1 0\n4 3 2 7 6 0 5 1\n4 3 0 7 6 5 2 1\n1 3 2 0 5 7 6 4\n1 3 2 4 0 7 6 5\n1 3 0 4 5 7 6 2\n0 3 2 4 5 7 6 1\n1 0 3 4 5 7 2 6\n1 3 4 0 5 7 2 6\n1 2 7 4 5 3 0 6\n1 2 4 0 5 3 7 6\n3 1 2 4 5 0 7 6\n6 1 2 4 5 3 7 0\n5 1 2 4 0 3 7 6\n4 1 2 0 5 3 7 6\n5 3 2 4 1 7 6 0\n5 3 0 4 1 7 2 6\n5 3 2 4 6 1 7 0\n0 3 2 4 5 1 7 6\n5 0 2 4 3 1 7 6\n5 3 2 0 4 1 7 6\n5 2 0 4 1 3 7 6\n0 5 2 4 1 3 7 6\n6 3 0 2 1 5 7 4\n6 3 2 7 1 5 0 4\n6 3 2 4 1 0 5 7\n6 3 0 4 1 5 2 7\n6 0 3 4 1 5 7 2\n6 3 7 4 1 5 0 2\n6 3 4 0 1 5 7 2\n3 2 7 4 1 5 0 6\n3 2 4 0 1 5 7 6\n3 5 2 4 1 7 0 6\n3 5 2 4 0 1 7 6\n4 3 2 6 1 5 0 7\n4 3 0 6 1 5 7 2\n4 3 2 1 5 0 7 6\n4 0 2 1 3 5 7 6\n4 0 3 2 1 5 7 6\n4 3 7 2 1 5 0 6\n4 3 2 7 1 5 6 0\n4 3 2 7 1 0 5 6\n4 3 0 7 1 5 2 6\n1 2 7 4 3 5 6 0\n1 2 7 4 3 0 5 6\n1 2 4 3 0 5 7 6\n1 2 4 6 3 5 7 0\n0 2 4 1 3 5 7 6\n1 2 4 7 3 5 0 6\n1 5 2 4 6 3 7 0\n1 5 2 0 4 3 7 6\n1 5 2 4 3 7 6 0\n1 5 0 4 3 7 2 6\n3 1 2 4 6 5 7 0\n3 1 2 0 4 5 7 6\n5 1 2 4 3 7 0 6\n6 1 2 4 0 5 7 3\n6 1 2 0 3 5 7 4\n6 1 2 4 3 5 0 7\n6 1 0 4 3 5 7 2\n4 1 2 3 0 5 7 6\n4 1 2 6 3 5 7 0\n4 1 0 2 3 5 7 6\n4 1 2 7 3 5 0 6\n1 3 2 6 4 0 5 7\n1 3 0 6 4 5 2 7\n1 3 6 0 4 5 7 2\n1 0 3 6 4 5 7 2\n1 3 7 6 4 5 0 2\n5 3 2 6 4 0 7 1\n3 0 2 6 4 5 7 1\n1 5 3 2 4 0 7 6\n0 1 3 2 4 5 7 6\n1 3 7 2 4 5 6 0\n1 3 7 2 4 0 5 6\n5 3 2 1 0 4 7 6\n5 3 2 1 4 7 0 6\n5 0 2 1 4 3 7 6\n6 3 2 1 4 5 0 7\n6 3 0 1 4 5 7 2\n3 2 0 1 4 5 7 6\n3 5 2 1 4 0 7 6\n1 3 2 0 4 5 6 7\n1 3 2 7 0 5 6 4\n1 3 0 7 4 5 6 2\n0 3 2 7 4 5 6 1\n1 3 2 7 0 4 5 6\n1 0 2 7 4 3 5 6\n1 3 7 0 4 5 2 6\n1 0 3 7 4 5 2 6\n1 5 3 2 0 6 7 4\n1 5 3 2 6 7 0 4\n4 1 3 2 6 5 7 0\n2 1 3 0 6 5 7 4\n5 1 3 2 6 0 7 4\n6 1 3 2 0 5 7 4\n1 3 7 2 0 5 4 6\n1 3 7 0 6 5 4 2\n1 3 0 2 6 5 4 7\n0 3 7 2 6 5 4 1\n1 3 7 2 0 6 5 4\n1 0 7 2 6 3 5 4\n1 3 2 6 5 7 4 0\n1 3 0 6 5 7 2 4\n1 2 0 6 5 3 7 4\n0 1 2 6 5 3 7 4\n5 3 2 6 1 7 0 4\n5 3 2 6 0 1 7 4\n5 0 2 6 1 3 7 4\n3 2 0 6 1 5 7 4\n3 5 2 6 1 0 7 4\n1 2 6 0 3 5 7 4\n1 2 7 6 3 5 0 4\n1 5 2 6 0 3 7 4\n1 5 2 6 3 7 0 4\n3 1 2 6 0 5 7 4\n5 1 2 6 3 0 7 4\n4 3 2 1 6 0 5 7\n4 3 0 1 6 5 2 7\n4 3 1 0 6 5 7 2\n4 0 3 1 6 5 7 2\n4 3 7 1 6 5 0 2\n0 3 2 1 5 6 7 4\n5 3 2 1 4 6 7 0\n5 3 2 0 1 6 7 4\n5 0 2 1 3 6 7 4\n5 3 2 1 6 7 4 0\n5 3 0 1 6 7 2 4\n5 2 0 1 6 3 7 4\n0 5 2 1 6 3 7 4\n6 3 2 1 5 7 0 4\n6 0 2 1 5 3 7 4\n6 2 0 1 3 5 7 4\n0 6 2 1 3 5 7 4\n6 5 2 1 3 0 7 4\n3 2 1 0 6 5 7 4\n3 2 7 1 6 5 0 4\n3 5 2 1 0 6 7 4\n3 5 2 1 6 7 0 4\n1 3 2 6 0 5 4 7\n0 3 2 1 6 5 4 7\n1 3 2 7 5 0 4 6\n1 3 2 0 7 5 4 6\n0 3 2 7 1 5 4 6\n1 0 2 7 3 5 4 6\n1 0 3 7 6 5 4 2\n7 3 2 0 6 5 4 1\n5 3 2 7 6 0 4 1\n6 3 2 7 0 5 4 1\n3 0 2 7 6 5 4 1\n1 3 2 0 7 6 5 4\n1 3 2 7 4 6 5 0\n0 3 2 7 1 6 5 4\n1 0 2 7 3 6 5 4\n1 2 0 7 6 3 5 4\n0 1 2 7 6 3 5 4\n1 3 7 6 0 5 2 4\n1 3 0 7 6 5 2 4\n"
     ]
    },
    {
     "output_type": "error",
     "ename": "Exception",
     "evalue": "No solution found. State 1 3 0 7 6 5 2 4 is in the closed list.",
     "traceback": [
      "\u001b[0;31m---------------------------------------------------------------------------\u001b[0m",
      "\u001b[0;31mException\u001b[0m                                 Traceback (most recent call last)",
      "\u001b[0;32m<ipython-input-8-0086c8329cc4>\u001b[0m in \u001b[0;36m<module>\u001b[0;34m\u001b[0m\n\u001b[1;32m      3\u001b[0m \u001b[0;34m\u001b[0m\u001b[0m\n\u001b[1;32m      4\u001b[0m \u001b[0mpuzzle\u001b[0m \u001b[0;34m=\u001b[0m \u001b[0mPuzzle\u001b[0m\u001b[0;34m(\u001b[0m\u001b[0;34m'1 3 2 4 6 5 7 0'\u001b[0m\u001b[0;34m)\u001b[0m\u001b[0;34m\u001b[0m\u001b[0;34m\u001b[0m\u001b[0m\n\u001b[0;32m----> 5\u001b[0;31m \u001b[0mGBFS\u001b[0m\u001b[0;34m(\u001b[0m\u001b[0mpuzzle\u001b[0m\u001b[0;34m)\u001b[0m\u001b[0;34m.\u001b[0m\u001b[0mgetPuzzleStringForm\u001b[0m\u001b[0;34m(\u001b[0m\u001b[0;34m)\u001b[0m\u001b[0;34m\u001b[0m\u001b[0;34m\u001b[0m\u001b[0m\n\u001b[0m",
      "\u001b[0;32m~/Desktop/code/concordia/COMP_472/TB4L_2/GBFS.py\u001b[0m in \u001b[0;36mGBFS\u001b[0;34m(puzzle)\u001b[0m\n\u001b[1;32m     26\u001b[0m \u001b[0;34m\u001b[0m\u001b[0m\n\u001b[1;32m     27\u001b[0m     \u001b[0;32mif\u001b[0m \u001b[0mstr\u001b[0m\u001b[0;34m(\u001b[0m\u001b[0mcurrentNode\u001b[0m\u001b[0;34m)\u001b[0m \u001b[0;32min\u001b[0m \u001b[0mclosedList\u001b[0m\u001b[0;34m:\u001b[0m\u001b[0;34m\u001b[0m\u001b[0;34m\u001b[0m\u001b[0m\n\u001b[0;32m---> 28\u001b[0;31m       \u001b[0;32mraise\u001b[0m \u001b[0mException\u001b[0m\u001b[0;34m(\u001b[0m\u001b[0;34m'No solution found. State '\u001b[0m \u001b[0;34m+\u001b[0m \u001b[0mstr\u001b[0m\u001b[0;34m(\u001b[0m\u001b[0mcurrentNode\u001b[0m\u001b[0;34m)\u001b[0m \u001b[0;34m+\u001b[0m \u001b[0;34m' is in the closed list.'\u001b[0m\u001b[0;34m)\u001b[0m\u001b[0;34m\u001b[0m\u001b[0;34m\u001b[0m\u001b[0m\n\u001b[0m\u001b[1;32m     29\u001b[0m \u001b[0;34m\u001b[0m\u001b[0m\n\u001b[1;32m     30\u001b[0m     \u001b[0;31m### Step: Remove node n with the smallest h(n) from open list and place n in closed list\u001b[0m\u001b[0;34m\u001b[0m\u001b[0;34m\u001b[0m\u001b[0;34m\u001b[0m\u001b[0m\n",
      "\u001b[0;31mException\u001b[0m: No solution found. State 1 3 0 7 6 5 2 4 is in the closed list."
     ]
    }
   ],
   "source": [
    "from GBFS import GBFS\n",
    "from Puzzle import Puzzle\n",
    "\n",
    "puzzle = Puzzle('1 3 2 4 6 5 7 0')\n",
    "GBFS(puzzle).getPuzzleStringForm()"
   ]
  },
  {
   "cell_type": "code",
   "execution_count": 13,
   "metadata": {},
   "outputs": [
    {
     "output_type": "execute_result",
     "data": {
      "text/plain": [
       "'1 2 3 4 5 6 7 0'"
      ]
     },
     "metadata": {},
     "execution_count": 13
    }
   ],
   "source": [
    "nodes = [Puzzle('1 0 3 4 5 2 6 7'), Puzzle('3 0 1 4 2 6 5 7'), Puzzle('1 2 3 4 5 6 7 0')]\n",
    "\n",
    "closed_list = {'1 2 3 4 5 6 7 0': nodes[2], \"hi\": 'lol'}\n",
    "\n",
    "for node in nodes:\n",
    "    if str(node) in closedList:\n",
    "        nodes.remove(node)\n",
    "\n",
    "next(iter(closed_list))"
   ]
  },
  {
   "cell_type": "code",
   "execution_count": null,
   "metadata": {},
   "outputs": [],
   "source": []
  }
 ]
}