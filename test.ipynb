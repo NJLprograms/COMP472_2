{
 "metadata": {
  "language_info": {
   "codemirror_mode": {
    "name": "ipython",
    "version": 3
   },
   "file_extension": ".py",
   "mimetype": "text/x-python",
   "name": "python",
   "nbconvert_exporter": "python",
   "pygments_lexer": "ipython3",
   "version": "3.8.3-final"
  },
  "orig_nbformat": 2,
  "kernelspec": {
   "name": "python3",
   "display_name": "Python 3.8.3 64-bit ('base': conda)",
   "metadata": {
    "interpreter": {
     "hash": "e0d100da2a8ea264dfb47a8430a9e30a2afabd950adf81b1e01ba12eb2b32acc"
    }
   }
  }
 },
 "nbformat": 4,
 "nbformat_minor": 2,
 "cells": [
  {
   "cell_type": "code",
   "execution_count": 2,
   "metadata": {},
   "outputs": [],
   "source": [
    "puzzle = \"1 2 3 4 5 6 7 0\"\n",
    "puzzle = puzzle.split()\n",
    "\n",
    "pu = {}\n",
    "\n",
    "for index, value in enumerate(puzzle):\n",
    "    pu[value] = index"
   ]
  },
  {
   "cell_type": "code",
   "execution_count": 2,
   "metadata": {},
   "outputs": [
    {
     "output_type": "execute_result",
     "data": {
      "text/plain": [
       "False"
      ]
     },
     "metadata": {},
     "execution_count": 2
    }
   ],
   "source": [
    "from Puzzle import Puzzle\n",
    "\n",
    "puzzle = Puzzle(\"1 2 3 5 4 6 7 0\")\n",
    "puzzle.swap('6', '0')\n",
    "puzzle.get(0)\n",
    "puzzle.hasEmptyCornerSlot()"
   ]
  },
  {
   "cell_type": "code",
   "execution_count": 1,
   "metadata": {},
   "outputs": [
    {
     "output_type": "stream",
     "name": "stdout",
     "text": [
      "{}\n"
     ]
    }
   ],
   "source": [
    "from GBFS import GBFS\n",
    "from Puzzle import Puzzle\n",
    "\n",
    "puzzle = Puzzle(\"1 2 3 4 5 6 7 0\")\n",
    "GBFS(puzzle)"
   ]
  },
  {
   "cell_type": "code",
   "execution_count": 5,
   "metadata": {},
   "outputs": [
    {
     "output_type": "stream",
     "name": "stdout",
     "text": [
      "8\n"
     ]
    },
    {
     "output_type": "execute_result",
     "data": {
      "text/plain": [
       "0"
      ]
     },
     "metadata": {},
     "execution_count": 5
    }
   ],
   "source": [
    "from heuristic import h1\n",
    "from Puzzle import Puzzle\n",
    "\n",
    "puzzle = Puzzle('3 0 1 4 2 6 5 7')\n",
    "print(h1(puzzle))\n",
    "puzzle = Puzzle('1 2 3 4 5 6 7 0')\n",
    "h1(puzzle)"
   ]
  },
  {
   "cell_type": "code",
   "execution_count": 2,
   "metadata": {},
   "outputs": [
    {
     "output_type": "execute_result",
     "data": {
      "text/plain": [
       "'1 2 3 4 5 6 7 0'"
      ]
     },
     "metadata": {},
     "execution_count": 2
    }
   ],
   "source": [
    "from GBFS import GBFS\n",
    "from Puzzle import Puzzle\n",
    "\n",
    "puzzle = Puzzle('1 0 3 6 5 2 7 4')\n",
    "GBFS(puzzle).getPuzzleStringForm()"
   ]
  },
  {
   "cell_type": "code",
   "execution_count": 13,
   "metadata": {},
   "outputs": [
    {
     "output_type": "execute_result",
     "data": {
      "text/plain": [
       "'1 2 3 4 5 6 7 0'"
      ]
     },
     "metadata": {},
     "execution_count": 13
    }
   ],
   "source": [
    "nodes = [Puzzle('1 0 3 4 5 2 6 7'), Puzzle('3 0 1 4 2 6 5 7'), Puzzle('1 2 3 4 5 6 7 0')]\n",
    "\n",
    "closed_list = {'1 2 3 4 5 6 7 0': nodes[2], \"hi\": 'lol'}\n",
    "\n",
    "for node in nodes:\n",
    "    if str(node) in closedList:\n",
    "        nodes.remove(node)\n",
    "\n",
    "next(iter(closed_list))"
   ]
  },
  {
   "cell_type": "code",
   "execution_count": 3,
   "metadata": {},
   "outputs": [
    {
     "output_type": "execute_result",
     "data": {
      "text/plain": [
       "20"
      ]
     },
     "metadata": {},
     "execution_count": 3
    }
   ],
   "source": [
    "from heuristic import h2\n",
    "from Puzzle import Puzzle\n",
    "\n",
    "puzzle = Puzzle('0 2 3 4 5 6 7 1')\n",
    "h2(puzzle)"
   ]
  },
  {
   "cell_type": "code",
   "execution_count": 12,
   "metadata": {},
   "outputs": [
    {
     "output_type": "execute_result",
     "data": {
      "text/plain": [
       "'1 2 3 4 5 6 7 0'"
      ]
     },
     "metadata": {},
     "execution_count": 12
    }
   ],
   "source": [
    "from Astar import Astar\n",
    "from Puzzle import Puzzle\n",
    "\n",
    "puzzle = Puzzle('1 0 3 6 5 2 7 4')\n",
    "str(Astar(puzzle))"
   ]
  },
  {
   "cell_type": "code",
   "execution_count": null,
   "metadata": {},
   "outputs": [],
   "source": [
    "from UCS import UCS\n",
    "from Puzzle import Puzzle\n",
    "\n",
    "puzzle = Puzzle(\"0 2 3 1 6 4 7 5\")\n",
    "str(UCS(puzzle))"
   ]
  }
 ]
}