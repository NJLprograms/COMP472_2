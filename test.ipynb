{
 "metadata": {
  "language_info": {
   "codemirror_mode": {
    "name": "ipython",
    "version": 3
   },
   "file_extension": ".py",
   "mimetype": "text/x-python",
   "name": "python",
   "nbconvert_exporter": "python",
   "pygments_lexer": "ipython3",
   "version": "3.8.3-final"
  },
  "orig_nbformat": 2,
  "kernelspec": {
   "name": "python3",
   "display_name": "Python 3.8.3 64-bit ('base': conda)",
   "metadata": {
    "interpreter": {
     "hash": "e0d100da2a8ea264dfb47a8430a9e30a2afabd950adf81b1e01ba12eb2b32acc"
    }
   }
  }
 },
 "nbformat": 4,
 "nbformat_minor": 2,
 "cells": [
  {
   "source": [
    "# puzzle class example\n",
    "\n",
    "from Puzzle import Puzzle\n",
    "from Moves import Move\n",
    "\n",
    "pu = Puzzle(\"1 3 5 7 2 4 6 0\")\n",
    "\n",
    "\n",
    "pu.regularMove(Move.DOWN)\n",
    "pu.regularMove(Move.RIGHT)\n",
    "pu.regularMove(Move.UP)\n",
    "pu.regularMove(Move.LEFT)\n",
    "print(\"cost: \" + str(pu.cost))\n",
    "pu.getPuzzle()"
   ],
   "cell_type": "code",
   "metadata": {},
   "execution_count": 5,
   "outputs": [
    {
     "output_type": "stream",
     "name": "stdout",
     "text": [
      "cost: 4\n"
     ]
    },
    {
     "output_type": "execute_result",
     "data": {
      "text/plain": [
       "{'1': 0, '3': 1, '5': 3, '7': 6, '2': 4, '4': 5, '6': 2, '0': 7}"
      ]
     },
     "metadata": {},
     "execution_count": 5
    }
   ]
  },
  {
   "cell_type": "code",
   "execution_count": 1,
   "metadata": {},
   "outputs": [
    {
     "output_type": "execute_result",
     "data": {
      "text/plain": [
       "['3 0 1 4 2 6 5 7', '6 3 4 7 1 2 5 0', '1 0 3 6 5 2 7 4']"
      ]
     },
     "metadata": {},
     "execution_count": 1
    }
   ],
   "source": [
    "# file read example\n",
    "from Puzzle import Puzzle\n",
    "\n",
    "with open('samplePuzzles.txt') as file:\n",
    "    content = [line.rstrip('\\n') for line in file]\n",
    "\n",
    "content"
   ]
  },
  {
   "cell_type": "code",
   "execution_count": 2,
   "metadata": {},
   "outputs": [],
   "source": [
    "puzzle = \"1 2 3 4 5 6 7 0\"\n",
    "puzzle = puzzle.split()\n",
    "\n",
    "pu = {}\n",
    "\n",
    "for index, value in enumerate(puzzle):\n",
    "    pu[value] = index"
   ]
  },
  {
   "cell_type": "code",
   "execution_count": 3,
   "metadata": {},
   "outputs": [
    {
     "output_type": "execute_result",
     "data": {
      "text/plain": [
       "False"
      ]
     },
     "metadata": {},
     "execution_count": 3
    }
   ],
   "source": [
    "from Puzzle import Puzzle\n",
    "\n",
    "puzzle = Puzzle(\"1 2 3 5 4 6 7 0\")\n",
    "puzzle.swap('6', '0')\n",
    "puzzle.get(0)\n",
    "puzzle.hasEmptyCornerSlot()"
   ]
  },
  {
   "cell_type": "code",
   "execution_count": 3,
   "metadata": {},
   "outputs": [
    {
     "output_type": "stream",
     "name": "stdout",
     "text": [
      "1 0\n2 4\n"
     ]
    }
   ],
   "source": []
  },
  {
   "cell_type": "code",
   "execution_count": null,
   "metadata": {},
   "outputs": [],
   "source": []
  }
 ]
}